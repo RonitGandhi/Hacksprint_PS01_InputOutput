{
  "nbformat": 4,
  "nbformat_minor": 0,
  "metadata": {
    "colab": {
      "name": "TWEET_SCRAPING.ipynb",
      "provenance": [],
      "machine_shape": "hm",
      "authorship_tag": "ABX9TyMahlmEWGeEJR4fgwhwRXwT",
      "include_colab_link": true
    },
    "kernelspec": {
      "name": "python3",
      "display_name": "Python 3"
    },
    "language_info": {
      "name": "python"
    },
    "accelerator": "GPU"
  },
  "cells": [
    {
      "cell_type": "markdown",
      "metadata": {
        "id": "view-in-github",
        "colab_type": "text"
      },
      "source": [
        "<a href=\"https://colab.research.google.com/github/RonitGandhi/Hacksprint_PS01_InputOutput/blob/model_branch/TWEET_SCRAPING.ipynb\" target=\"_parent\"><img src=\"https://colab.research.google.com/assets/colab-badge.svg\" alt=\"Open In Colab\"/></a>"
      ]
    },
    {
      "cell_type": "code",
      "metadata": {
        "id": "syEy5ZMffScq"
      },
      "source": [
        "import datetime\n",
        "import time\n",
        "import pandas as pd\n",
        "import tweepy"
      ],
      "execution_count": 74,
      "outputs": []
    },
    {
      "cell_type": "code",
      "metadata": {
        "colab": {
          "base_uri": "https://localhost:8080/",
          "height": 35
        },
        "id": "CYkoOqWzfeGY",
        "outputId": "7823fdd6-fccb-4633-ff4e-67e298afbe60"
      },
      "source": [
        "tweepy.__version__"
      ],
      "execution_count": 75,
      "outputs": [
        {
          "output_type": "execute_result",
          "data": {
            "application/vnd.google.colaboratory.intrinsic+json": {
              "type": "string"
            },
            "text/plain": [
              "'3.10.0'"
            ]
          },
          "metadata": {},
          "execution_count": 75
        }
      ]
    },
    {
      "cell_type": "code",
      "metadata": {
        "id": "-MO18ecOfnWC"
      },
      "source": [
        "def get_df():\n",
        "    return pd.DataFrame(\n",
        "        columns=[\n",
        "            \"tweet_id\",\n",
        "            \"name\",\n",
        "            \"screen_name\",\n",
        "            \"retweet_count\",\n",
        "            \"text\",\n",
        "            \"mined_at\",\n",
        "            \"created_at\",\n",
        "            \"favourite_count\",\n",
        "            \"hashtags\",\n",
        "            \"status_count\",\n",
        "            \"followers_count\",\n",
        "            \"location\",\n",
        "            \"source_device\",\n",
        "        ]\n",
        "    )"
      ],
      "execution_count": 76,
      "outputs": []
    },
    {
      "cell_type": "code",
      "metadata": {
        "id": "HlxbfotZfrgk"
      },
      "source": [
        "class TweetMiner(object):\n",
        "\n",
        "    result_limit = 20\n",
        "    data = []\n",
        "    api = False\n",
        "\n",
        "    twitter_keys = {\n",
        "        \"consumer_key\": \"waFFtgAFbqBKyCdZlZCaNqosW\",\n",
        "        \"consumer_secret\": \"nBcUonWTuzzN1YExrShinYQNrDe0x5cHdPavmhQv0Cs7MC8avN\",\n",
        "        \"access_token_key\": \"1446707378657710081-3aBvyoS7zBhaJ4LQcKZyPjGRZSuwZ5\",\n",
        "        \"access_token_secret\": \"YWoP4ZFdnNhjm4rceQMKF6Jc5LuRFJ6F24NvdZHYS3oqA\",\n",
        "    }\n",
        "    def __init__(self, keys_dict=twitter_keys, api=api):\n",
        "\n",
        "        self.twitter_keys = keys_dict\n",
        "\n",
        "        auth = tweepy.OAuthHandler(\n",
        "            keys_dict[\"consumer_key\"], keys_dict[\"consumer_secret\"]\n",
        "        )\n",
        "        auth.set_access_token(\n",
        "            keys_dict[\"access_token_key\"], keys_dict[\"access_token_secret\"]\n",
        "        )\n",
        "\n",
        "        self.api = tweepy.API(\n",
        "            auth, wait_on_rate_limit=True, wait_on_rate_limit_notify=True\n",
        "        )\n",
        "        self.twitter_keys = keys_dict\n",
        "    def mine_crypto_currency_tweets(self, query=\"BTC\"):\n",
        "\n",
        "            last_tweet_id = False\n",
        "            page_num = 1\n",
        "\n",
        "            data = get_df()\n",
        "            cypto_query = f\"#{query}\"\n",
        "            print(\" ===== \", query, cypto_query)\n",
        "            for page in tweepy.Cursor(\n",
        "                self.api.search,\n",
        "                q=cypto_query,\n",
        "                lang=\"en\",\n",
        "                tweet_mode=\"extended\",\n",
        "                count=200,  # max_id=1295144957439690000\n",
        "            ).pages():\n",
        "                print(\" ...... new page\", page_num)\n",
        "                page_num += 1\n",
        "\n",
        "                for item in page:\n",
        "                    mined = {\n",
        "                        \"tweet_id\": item.id,\n",
        "                        \"name\": item.user.name,\n",
        "                        \"screen_name\": item.user.screen_name,\n",
        "                        \"retweet_count\": item.retweet_count,\n",
        "                        \"text\": item.full_text,\n",
        "                        \"mined_at\": datetime.datetime.now(),\n",
        "                        \"created_at\": item.created_at,\n",
        "                        \"favourite_count\": item.favorite_count,\n",
        "                        \"hashtags\": item.entities[\"hashtags\"],\n",
        "                        \"status_count\": item.user.statuses_count,\n",
        "                        \"followers_count\": item.user.followers_count,\n",
        "                        \"location\": item.place,\n",
        "                        \"source_device\": item.source,\n",
        "                    }\n",
        "                    try:\n",
        "                        mined[\"retweet_text\"] = item.retweeted_status.full_text\n",
        "                    except:\n",
        "                        mined[\"retweet_text\"] = \"None\"\n",
        "\n",
        "                    last_tweet_id = item.id\n",
        "                    data = data.append(mined, ignore_index=True)\n",
        "\n",
        "                if page_num % 180 == 0:\n",
        "                    date_label = datetime.datetime.now().strftime(\"%Y%m%d_%H%M%S\")\n",
        "                    print(\"....... outputting to csv\", page_num, len(data))\n",
        "                    data.to_csv(f\"{query}_{page_num}_{date_label}.csv\", index=False)\n",
        "                    print(\"  ..... resetting df\")\n",
        "                    data = get_df()\n",
        "\n",
        "            date_label = datetime.datetime.now().strftime(\"%Y%m%d_%H%M%S\")\n",
        "            data.to_csv(f\"{query}_{page_num}_{date_label}.csv\", index=False)"
      ],
      "execution_count": 77,
      "outputs": []
    },
    {
      "cell_type": "code",
      "metadata": {
        "id": "KTtdnUS4jz1Q"
      },
      "source": [
        "miner = TweetMiner()"
      ],
      "execution_count": 78,
      "outputs": []
    },
    {
      "cell_type": "code",
      "metadata": {
        "id": "3wBOe2itj0ZT"
      },
      "source": [
        "handle_list = [\n",
        "    \"BTC\",\n",
        "    \"ETH\",\n",
        "    \"ADA\",\n",
        "    \"BNB\",\n",
        "    \"USDT\",\n",
        "    \"XRP\",\n",
        "    \"SOL\",\n",
        "    \"DOT\",\n",
        "    \"USDC\",\n",
        "    \"DOGE\"\n",
        "]"
      ],
      "execution_count": 79,
      "outputs": []
    },
    {
      "cell_type": "code",
      "metadata": {
        "id": "KNRMNA3Hkabr"
      },
      "source": [
        "import queue\n",
        "import threading\n",
        "\n",
        "should_publish = threading.Event()\n",
        "update_queue = queue.Queue()\n",
        "\n",
        "\n",
        "def start_publisher():\n",
        "    global handle_list\n",
        "\n",
        "    starttime = time.time()\n",
        "    print(\"Start polling\", starttime)\n",
        "    poll_iteration = 1\n",
        "\n",
        "    for i in range(10):\n",
        "        for name in handle_list:\n",
        "            print(i, poll_iteration, \"\\rpublishing update \", end=\"\")\n",
        "            update_queue.put((poll_iteration, name))\n",
        "            poll_iteration += 1\n",
        "            time.sleep(900)\n",
        "            print(\"\\rawaiting for publishing update\", end=\"\")\n",
        "            should_publish.wait()\n",
        "            update_queue.join()\n",
        "\n",
        "def start_update_listener():\n",
        "    while True:\n",
        "        poll_iteration, name = update_queue.get()\n",
        "\n",
        "        print(\" --- \", name)\n",
        "        try:\n",
        "            miner.mine_crypto_currency_tweets(query=name)\n",
        "            update_queue.task_done()\n",
        "\n",
        "        except Exception as e:  # work on python 3.x\n",
        "            print(\"Failed to upload to ftp: \" + str(e))\n",
        "\n",
        "\n",
        "listener_thread = threading.Thread(target=start_update_listener, daemon=True)\n",
        "publisher_thread = threading.Thread(target=start_publisher, daemon=True)       "
      ],
      "execution_count": 80,
      "outputs": []
    },
    {
      "cell_type": "code",
      "metadata": {
        "colab": {
          "base_uri": "https://localhost:8080/"
        },
        "id": "Ud6lJThqkc0C",
        "outputId": "dae1fa73-dff9-454f-e0c6-3d5faabdeafd"
      },
      "source": [
        "publisher_thread.start()\n",
        "listener_thread.start()\n",
        "# start publishing\n",
        "should_publish.set()"
      ],
      "execution_count": 81,
      "outputs": [
        {
          "output_type": "stream",
          "name": "stdout",
          "text": [
            "Start polling 1633759491.1466806\n",
            "0 1 \rpublishing update  ---  BTC\n",
            " =====  BTC #BTC\n"
          ]
        }
      ]
    },
    {
      "cell_type": "code",
      "metadata": {
        "id": "nKJpqlYZnMWT"
      },
      "source": [
        "should_publish.clear()"
      ],
      "execution_count": 82,
      "outputs": []
    }
  ]
}