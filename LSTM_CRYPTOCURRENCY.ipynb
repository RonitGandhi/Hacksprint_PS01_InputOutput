{
  "nbformat": 4,
  "nbformat_minor": 0,
  "metadata": {
    "colab": {
      "name": "LSTM_CRYPTOCURRENCY.ipynb",
      "provenance": [],
      "machine_shape": "hm"
    },
    "kernelspec": {
      "name": "python3",
      "display_name": "Python 3"
    },
    "language_info": {
      "name": "python"
    },
    "accelerator": "GPU"
  },
  "cells": [
    {
      "cell_type": "code",
      "metadata": {
        "colab": {
          "base_uri": "https://localhost:8080/"
        },
        "id": "DTu9xRNTqO0s",
        "outputId": "cbf75423-7c7b-4a4f-b81b-7ebade9a2cfc"
      },
      "source": [
        "pip install yahoofinancials"
      ],
      "execution_count": null,
      "outputs": [
        {
          "output_type": "stream",
          "name": "stdout",
          "text": [
            "Collecting yahoofinancials\n",
            "  Downloading yahoofinancials-1.6.tar.gz (27 kB)\n",
            "Requirement already satisfied: beautifulsoup4 in /usr/local/lib/python3.7/dist-packages (from yahoofinancials) (4.6.3)\n",
            "Requirement already satisfied: pytz in /usr/local/lib/python3.7/dist-packages (from yahoofinancials) (2018.9)\n",
            "Building wheels for collected packages: yahoofinancials\n",
            "  Building wheel for yahoofinancials (setup.py) ... \u001b[?25l\u001b[?25hdone\n",
            "  Created wheel for yahoofinancials: filename=yahoofinancials-1.6-py3-none-any.whl size=15190 sha256=e8b778e97321fe2929dde8cae820ff542601404b1392a8714eda297afbe27733\n",
            "  Stored in directory: /root/.cache/pip/wheels/4b/63/46/e7110bfee88685fe69e338d1b14d1748921862aa57b6705b60\n",
            "Successfully built yahoofinancials\n",
            "Installing collected packages: yahoofinancials\n",
            "Successfully installed yahoofinancials-1.6\n"
          ]
        }
      ]
    },
    {
      "cell_type": "code",
      "metadata": {
        "colab": {
          "base_uri": "https://localhost:8080/"
        },
        "id": "f2Az7lI2qNY3",
        "outputId": "b7c59b98-ab6b-4628-af51-d4d19e816897"
      },
      "source": [
        "pip install yfinance"
      ],
      "execution_count": null,
      "outputs": [
        {
          "output_type": "stream",
          "name": "stdout",
          "text": [
            "Collecting yfinance\n",
            "  Downloading yfinance-0.1.63.tar.gz (26 kB)\n",
            "Requirement already satisfied: pandas>=0.24 in /usr/local/lib/python3.7/dist-packages (from yfinance) (1.1.5)\n",
            "Requirement already satisfied: numpy>=1.15 in /usr/local/lib/python3.7/dist-packages (from yfinance) (1.19.5)\n",
            "Requirement already satisfied: requests>=2.20 in /usr/local/lib/python3.7/dist-packages (from yfinance) (2.23.0)\n",
            "Requirement already satisfied: multitasking>=0.0.7 in /usr/local/lib/python3.7/dist-packages (from yfinance) (0.0.9)\n",
            "Collecting lxml>=4.5.1\n",
            "  Downloading lxml-4.6.3-cp37-cp37m-manylinux2014_x86_64.whl (6.3 MB)\n",
            "\u001b[K     |████████████████████████████████| 6.3 MB 11.5 MB/s \n",
            "\u001b[?25hRequirement already satisfied: pytz>=2017.2 in /usr/local/lib/python3.7/dist-packages (from pandas>=0.24->yfinance) (2018.9)\n",
            "Requirement already satisfied: python-dateutil>=2.7.3 in /usr/local/lib/python3.7/dist-packages (from pandas>=0.24->yfinance) (2.8.2)\n",
            "Requirement already satisfied: six>=1.5 in /usr/local/lib/python3.7/dist-packages (from python-dateutil>=2.7.3->pandas>=0.24->yfinance) (1.15.0)\n",
            "Requirement already satisfied: chardet<4,>=3.0.2 in /usr/local/lib/python3.7/dist-packages (from requests>=2.20->yfinance) (3.0.4)\n",
            "Requirement already satisfied: urllib3!=1.25.0,!=1.25.1,<1.26,>=1.21.1 in /usr/local/lib/python3.7/dist-packages (from requests>=2.20->yfinance) (1.24.3)\n",
            "Requirement already satisfied: certifi>=2017.4.17 in /usr/local/lib/python3.7/dist-packages (from requests>=2.20->yfinance) (2021.5.30)\n",
            "Requirement already satisfied: idna<3,>=2.5 in /usr/local/lib/python3.7/dist-packages (from requests>=2.20->yfinance) (2.10)\n",
            "Building wheels for collected packages: yfinance\n",
            "  Building wheel for yfinance (setup.py) ... \u001b[?25l\u001b[?25hdone\n",
            "  Created wheel for yfinance: filename=yfinance-0.1.63-py2.py3-none-any.whl size=23918 sha256=c41dbfd77ec09a5383bbbc4b08d750d9125b22c8b1470f53405ee748236d622b\n",
            "  Stored in directory: /root/.cache/pip/wheels/fe/87/8b/7ec24486e001d3926537f5f7801f57a74d181be25b11157983\n",
            "Successfully built yfinance\n",
            "Installing collected packages: lxml, yfinance\n",
            "  Attempting uninstall: lxml\n",
            "    Found existing installation: lxml 4.2.6\n",
            "    Uninstalling lxml-4.2.6:\n",
            "      Successfully uninstalled lxml-4.2.6\n",
            "Successfully installed lxml-4.6.3 yfinance-0.1.63\n"
          ]
        }
      ]
    },
    {
      "cell_type": "code",
      "metadata": {
        "id": "B961CQugoCRw"
      },
      "source": [
        "import os\n",
        "import numpy as np\n",
        "import tensorflow as tf\n",
        "from tensorflow import keras\n",
        "import pandas as pd\n",
        "import seaborn as sns\n",
        "from pylab import rcParams\n",
        "import matplotlib.pyplot as plt\n",
        "import pandas as pd\n",
        "import yfinance as yf\n",
        "from yahoofinancials import YahooFinancials\n",
        "from matplotlib import rc\n",
        "from sklearn.preprocessing import MinMaxScaler\n",
        "from tensorflow.keras.layers import Bidirectional, Dropout, Activation, Dense, LSTM\n",
        "from tensorflow.python.keras.layers import CuDNNLSTM\n",
        "from tensorflow.keras.models import Sequential"
      ],
      "execution_count": null,
      "outputs": []
    },
    {
      "cell_type": "code",
      "metadata": {
        "id": "5oGUB9-qpVZD"
      },
      "source": [
        "ticker_btc = ['BTC-USD']"
      ],
      "execution_count": null,
      "outputs": []
    },
    {
      "cell_type": "code",
      "metadata": {
        "colab": {
          "base_uri": "https://localhost:8080/",
          "height": 235
        },
        "id": "pvPeuoYgrhsi",
        "outputId": "fa488451-9152-4f6f-a057-04ee70a5171e"
      },
      "source": [
        "df_btc = pd.DataFrame()\n",
        "temp_df = yf.download(ticker_btc,\n",
        "                    start = '2014-01-01',\n",
        "                    end = '2021-12-31',\n",
        "                    progress = False)\n",
        "df_btc = df_btc.append(temp_df)\n",
        "df_btc.head()"
      ],
      "execution_count": null,
      "outputs": [
        {
          "output_type": "execute_result",
          "data": {
            "text/html": [
              "<div>\n",
              "<style scoped>\n",
              "    .dataframe tbody tr th:only-of-type {\n",
              "        vertical-align: middle;\n",
              "    }\n",
              "\n",
              "    .dataframe tbody tr th {\n",
              "        vertical-align: top;\n",
              "    }\n",
              "\n",
              "    .dataframe thead th {\n",
              "        text-align: right;\n",
              "    }\n",
              "</style>\n",
              "<table border=\"1\" class=\"dataframe\">\n",
              "  <thead>\n",
              "    <tr style=\"text-align: right;\">\n",
              "      <th></th>\n",
              "      <th>Open</th>\n",
              "      <th>High</th>\n",
              "      <th>Low</th>\n",
              "      <th>Close</th>\n",
              "      <th>Adj Close</th>\n",
              "      <th>Volume</th>\n",
              "    </tr>\n",
              "    <tr>\n",
              "      <th>Date</th>\n",
              "      <th></th>\n",
              "      <th></th>\n",
              "      <th></th>\n",
              "      <th></th>\n",
              "      <th></th>\n",
              "      <th></th>\n",
              "    </tr>\n",
              "  </thead>\n",
              "  <tbody>\n",
              "    <tr>\n",
              "      <th>2014-09-17</th>\n",
              "      <td>465.864014</td>\n",
              "      <td>468.174011</td>\n",
              "      <td>452.421997</td>\n",
              "      <td>457.334015</td>\n",
              "      <td>457.334015</td>\n",
              "      <td>21056800</td>\n",
              "    </tr>\n",
              "    <tr>\n",
              "      <th>2014-09-18</th>\n",
              "      <td>456.859985</td>\n",
              "      <td>456.859985</td>\n",
              "      <td>413.104004</td>\n",
              "      <td>424.440002</td>\n",
              "      <td>424.440002</td>\n",
              "      <td>34483200</td>\n",
              "    </tr>\n",
              "    <tr>\n",
              "      <th>2014-09-19</th>\n",
              "      <td>424.102997</td>\n",
              "      <td>427.834991</td>\n",
              "      <td>384.532013</td>\n",
              "      <td>394.795990</td>\n",
              "      <td>394.795990</td>\n",
              "      <td>37919700</td>\n",
              "    </tr>\n",
              "    <tr>\n",
              "      <th>2014-09-20</th>\n",
              "      <td>394.673004</td>\n",
              "      <td>423.295990</td>\n",
              "      <td>389.882996</td>\n",
              "      <td>408.903992</td>\n",
              "      <td>408.903992</td>\n",
              "      <td>36863600</td>\n",
              "    </tr>\n",
              "    <tr>\n",
              "      <th>2014-09-21</th>\n",
              "      <td>408.084991</td>\n",
              "      <td>412.425995</td>\n",
              "      <td>393.181000</td>\n",
              "      <td>398.821014</td>\n",
              "      <td>398.821014</td>\n",
              "      <td>26580100</td>\n",
              "    </tr>\n",
              "  </tbody>\n",
              "</table>\n",
              "</div>"
            ],
            "text/plain": [
              "                  Open        High  ...   Adj Close    Volume\n",
              "Date                                ...                      \n",
              "2014-09-17  465.864014  468.174011  ...  457.334015  21056800\n",
              "2014-09-18  456.859985  456.859985  ...  424.440002  34483200\n",
              "2014-09-19  424.102997  427.834991  ...  394.795990  37919700\n",
              "2014-09-20  394.673004  423.295990  ...  408.903992  36863600\n",
              "2014-09-21  408.084991  412.425995  ...  398.821014  26580100\n",
              "\n",
              "[5 rows x 6 columns]"
            ]
          },
          "metadata": {},
          "execution_count": 19
        }
      ]
    },
    {
      "cell_type": "code",
      "metadata": {
        "colab": {
          "base_uri": "https://localhost:8080/",
          "height": 235
        },
        "id": "c5sn3IFxsLBc",
        "outputId": "2661a3a2-5ce4-45f2-ac3f-5ef24fe97533"
      },
      "source": [
        "df_btc.tail()"
      ],
      "execution_count": null,
      "outputs": [
        {
          "output_type": "execute_result",
          "data": {
            "text/html": [
              "<div>\n",
              "<style scoped>\n",
              "    .dataframe tbody tr th:only-of-type {\n",
              "        vertical-align: middle;\n",
              "    }\n",
              "\n",
              "    .dataframe tbody tr th {\n",
              "        vertical-align: top;\n",
              "    }\n",
              "\n",
              "    .dataframe thead th {\n",
              "        text-align: right;\n",
              "    }\n",
              "</style>\n",
              "<table border=\"1\" class=\"dataframe\">\n",
              "  <thead>\n",
              "    <tr style=\"text-align: right;\">\n",
              "      <th></th>\n",
              "      <th>Open</th>\n",
              "      <th>High</th>\n",
              "      <th>Low</th>\n",
              "      <th>Close</th>\n",
              "      <th>Adj Close</th>\n",
              "      <th>Volume</th>\n",
              "    </tr>\n",
              "    <tr>\n",
              "      <th>Date</th>\n",
              "      <th></th>\n",
              "      <th></th>\n",
              "      <th></th>\n",
              "      <th></th>\n",
              "      <th></th>\n",
              "      <th></th>\n",
              "    </tr>\n",
              "  </thead>\n",
              "  <tbody>\n",
              "    <tr>\n",
              "      <th>2021-10-04</th>\n",
              "      <td>48208.906250</td>\n",
              "      <td>49456.777344</td>\n",
              "      <td>47045.003906</td>\n",
              "      <td>49112.902344</td>\n",
              "      <td>49112.902344</td>\n",
              "      <td>33383173002</td>\n",
              "    </tr>\n",
              "    <tr>\n",
              "      <th>2021-10-05</th>\n",
              "      <td>49174.960938</td>\n",
              "      <td>51839.984375</td>\n",
              "      <td>49072.839844</td>\n",
              "      <td>51514.812500</td>\n",
              "      <td>51514.812500</td>\n",
              "      <td>35873904236</td>\n",
              "    </tr>\n",
              "    <tr>\n",
              "      <th>2021-10-06</th>\n",
              "      <td>51486.664062</td>\n",
              "      <td>55568.464844</td>\n",
              "      <td>50488.191406</td>\n",
              "      <td>55361.449219</td>\n",
              "      <td>55361.449219</td>\n",
              "      <td>49034730168</td>\n",
              "    </tr>\n",
              "    <tr>\n",
              "      <th>2021-10-07</th>\n",
              "      <td>55338.625000</td>\n",
              "      <td>55338.625000</td>\n",
              "      <td>53525.468750</td>\n",
              "      <td>53805.984375</td>\n",
              "      <td>53805.984375</td>\n",
              "      <td>36807860413</td>\n",
              "    </tr>\n",
              "    <tr>\n",
              "      <th>2021-10-08</th>\n",
              "      <td>53756.832031</td>\n",
              "      <td>54417.851562</td>\n",
              "      <td>53713.972656</td>\n",
              "      <td>54178.187500</td>\n",
              "      <td>54178.187500</td>\n",
              "      <td>35443687424</td>\n",
              "    </tr>\n",
              "  </tbody>\n",
              "</table>\n",
              "</div>"
            ],
            "text/plain": [
              "                    Open          High  ...     Adj Close       Volume\n",
              "Date                                    ...                           \n",
              "2021-10-04  48208.906250  49456.777344  ...  49112.902344  33383173002\n",
              "2021-10-05  49174.960938  51839.984375  ...  51514.812500  35873904236\n",
              "2021-10-06  51486.664062  55568.464844  ...  55361.449219  49034730168\n",
              "2021-10-07  55338.625000  55338.625000  ...  53805.984375  36807860413\n",
              "2021-10-08  53756.832031  54417.851562  ...  54178.187500  35443687424\n",
              "\n",
              "[5 rows x 6 columns]"
            ]
          },
          "metadata": {},
          "execution_count": 20
        }
      ]
    },
    {
      "cell_type": "code",
      "metadata": {
        "id": "rM5yuuv-s0YA"
      },
      "source": [
        "ticker_eth = ['ETH-USD']"
      ],
      "execution_count": null,
      "outputs": []
    },
    {
      "cell_type": "code",
      "metadata": {
        "colab": {
          "base_uri": "https://localhost:8080/",
          "height": 235
        },
        "id": "xFc53o6_tJ8p",
        "outputId": "dbf4b000-5ede-4938-b13e-c5bf83dab2f5"
      },
      "source": [
        "df_eth = pd.DataFrame()\n",
        "temp_df = yf.download(ticker_eth,\n",
        "                    start = '2014-01-01',\n",
        "                    end = '2021-12-31',\n",
        "                    progress = False)\n",
        "df_eth = df_eth.append(temp_df)\n",
        "df_eth.head()"
      ],
      "execution_count": null,
      "outputs": [
        {
          "output_type": "execute_result",
          "data": {
            "text/html": [
              "<div>\n",
              "<style scoped>\n",
              "    .dataframe tbody tr th:only-of-type {\n",
              "        vertical-align: middle;\n",
              "    }\n",
              "\n",
              "    .dataframe tbody tr th {\n",
              "        vertical-align: top;\n",
              "    }\n",
              "\n",
              "    .dataframe thead th {\n",
              "        text-align: right;\n",
              "    }\n",
              "</style>\n",
              "<table border=\"1\" class=\"dataframe\">\n",
              "  <thead>\n",
              "    <tr style=\"text-align: right;\">\n",
              "      <th></th>\n",
              "      <th>Open</th>\n",
              "      <th>High</th>\n",
              "      <th>Low</th>\n",
              "      <th>Close</th>\n",
              "      <th>Adj Close</th>\n",
              "      <th>Volume</th>\n",
              "    </tr>\n",
              "    <tr>\n",
              "      <th>Date</th>\n",
              "      <th></th>\n",
              "      <th></th>\n",
              "      <th></th>\n",
              "      <th></th>\n",
              "      <th></th>\n",
              "      <th></th>\n",
              "    </tr>\n",
              "  </thead>\n",
              "  <tbody>\n",
              "    <tr>\n",
              "      <th>2015-08-07</th>\n",
              "      <td>2.831620</td>\n",
              "      <td>3.536610</td>\n",
              "      <td>2.521120</td>\n",
              "      <td>2.772120</td>\n",
              "      <td>2.772120</td>\n",
              "      <td>164329</td>\n",
              "    </tr>\n",
              "    <tr>\n",
              "      <th>2015-08-08</th>\n",
              "      <td>2.793760</td>\n",
              "      <td>2.798810</td>\n",
              "      <td>0.714725</td>\n",
              "      <td>0.753325</td>\n",
              "      <td>0.753325</td>\n",
              "      <td>674188</td>\n",
              "    </tr>\n",
              "    <tr>\n",
              "      <th>2015-08-09</th>\n",
              "      <td>0.706136</td>\n",
              "      <td>0.879810</td>\n",
              "      <td>0.629191</td>\n",
              "      <td>0.701897</td>\n",
              "      <td>0.701897</td>\n",
              "      <td>532170</td>\n",
              "    </tr>\n",
              "    <tr>\n",
              "      <th>2015-08-10</th>\n",
              "      <td>0.713989</td>\n",
              "      <td>0.729854</td>\n",
              "      <td>0.636546</td>\n",
              "      <td>0.708448</td>\n",
              "      <td>0.708448</td>\n",
              "      <td>405283</td>\n",
              "    </tr>\n",
              "    <tr>\n",
              "      <th>2015-08-11</th>\n",
              "      <td>0.708087</td>\n",
              "      <td>1.131410</td>\n",
              "      <td>0.663235</td>\n",
              "      <td>1.067860</td>\n",
              "      <td>1.067860</td>\n",
              "      <td>1463100</td>\n",
              "    </tr>\n",
              "  </tbody>\n",
              "</table>\n",
              "</div>"
            ],
            "text/plain": [
              "                Open      High       Low     Close  Adj Close   Volume\n",
              "Date                                                                  \n",
              "2015-08-07  2.831620  3.536610  2.521120  2.772120   2.772120   164329\n",
              "2015-08-08  2.793760  2.798810  0.714725  0.753325   0.753325   674188\n",
              "2015-08-09  0.706136  0.879810  0.629191  0.701897   0.701897   532170\n",
              "2015-08-10  0.713989  0.729854  0.636546  0.708448   0.708448   405283\n",
              "2015-08-11  0.708087  1.131410  0.663235  1.067860   1.067860  1463100"
            ]
          },
          "metadata": {},
          "execution_count": 24
        }
      ]
    },
    {
      "cell_type": "code",
      "metadata": {
        "id": "w46Pu8B-tRZo"
      },
      "source": [
        ""
      ],
      "execution_count": null,
      "outputs": []
    }
  ]
}