{
  "nbformat": 4,
  "nbformat_minor": 0,
  "metadata": {
    "colab": {
      "name": "SENTIMETER.ipynb",
      "provenance": [],
      "authorship_tag": "ABX9TyNIgoxGwivgwWqDIstTXBx+",
      "include_colab_link": true
    },
    "kernelspec": {
      "name": "python3",
      "display_name": "Python 3"
    },
    "language_info": {
      "name": "python"
    },
    "accelerator": "GPU"
  },
  "cells": [
    {
      "cell_type": "markdown",
      "metadata": {
        "id": "view-in-github",
        "colab_type": "text"
      },
      "source": [
        "<a href=\"https://colab.research.google.com/github/RonitGandhi/Hacksprint_PS01_InputOutput/blob/model_branch/SENTIMETER.ipynb\" target=\"_parent\"><img src=\"https://colab.research.google.com/assets/colab-badge.svg\" alt=\"Open In Colab\"/></a>"
      ]
    },
    {
      "cell_type": "code",
      "metadata": {
        "colab": {
          "base_uri": "https://localhost:8080/"
        },
        "id": "oqCVEcz2k1N1",
        "outputId": "16b9444a-d089-471a-c0e3-a4794afa304f"
      },
      "source": [
        "import glob\n",
        "import os\n",
        "import re\n",
        "\n",
        "import nltk\n",
        "import pandas as pd\n",
        "\n",
        "nltk.download(\"stopwords\")\n",
        "nltk.download(\"wordnet\")\n",
        "from nltk.corpus import stopwords\n",
        "from nltk.stem import SnowballStemmer, WordNetLemmatizer\n",
        "from nltk.tokenize import RegexpTokenizer\n",
        "from textblob import TextBlob"
      ],
      "execution_count": null,
      "outputs": [
        {
          "output_type": "stream",
          "name": "stdout",
          "text": [
            "[nltk_data] Downloading package stopwords to /root/nltk_data...\n",
            "[nltk_data]   Package stopwords is already up-to-date!\n",
            "[nltk_data] Downloading package wordnet to /root/nltk_data...\n",
            "[nltk_data]   Package wordnet is already up-to-date!\n"
          ]
        }
      ]
    },
    {
      "cell_type": "code",
      "metadata": {
        "id": "u1aM_ciml_ug"
      },
      "source": [
        "currency = [\n",
        "    \"DOGE\"\n",
        "]"
      ],
      "execution_count": null,
      "outputs": []
    },
    {
      "cell_type": "code",
      "metadata": {
        "id": "-61b24xhmBvR"
      },
      "source": [
        "def process_ccy(curr):\n",
        "    pd_df = pd.concat(\n",
        "        [pd.read_csv(f) for f in glob.glob(f\"clean_data/{curr}*.csv\", recursive=True)],\n",
        "        ignore_index=True,\n",
        "    )\n",
        "\n",
        "    print(f\"Number of records loaded for {curr}\", len(pd_df))\n",
        "    #pd_df[[\"coin_symbol\", \"tweet_id\", \"created_at\", \"date\", \"hour\"]].to_csv(\n",
        "    #    f\"clean_data/ccy_tweets/{curr}_tweets.csv\", index=False\n",
        "    #)\n",
        "\n",
        "    return pd_df"
      ],
      "execution_count": null,
      "outputs": []
    },
    {
      "cell_type": "code",
      "metadata": {
        "colab": {
          "base_uri": "https://localhost:8080/"
        },
        "id": "wb7VaccemO0v",
        "outputId": "50e73dd1-ed30-4ed5-bd52-f7b9d539af04"
      },
      "source": [
        "combined_df = pd.concat(\n",
        "    [process_ccy(c) for c in currency],\n",
        "    ignore_index=True,\n",
        ")"
      ],
      "execution_count": null,
      "outputs": [
        {
          "output_type": "stream",
          "name": "stdout",
          "text": [
            "Number of records loaded for DOGE 17043\n"
          ]
        }
      ]
    },
    {
      "cell_type": "code",
      "metadata": {
        "colab": {
          "base_uri": "https://localhost:8080/",
          "height": 445
        },
        "id": "e9gH0X_lmPbX",
        "outputId": "cb7181f3-e8b6-4aa1-f63b-df21c476ead2"
      },
      "source": [
        "combined_df.sort_values(by=[\"mined_at\"], inplace=True, ignore_index=True)\n",
        "combined_df.drop_duplicates(\n",
        "    subset=[\"tweet_id\"], inplace=True, keep=\"last\", ignore_index=True\n",
        ")\n",
        "combined_df.head(5)"
      ],
      "execution_count": null,
      "outputs": [
        {
          "output_type": "execute_result",
          "data": {
            "text/html": [
              "<div>\n",
              "<style scoped>\n",
              "    .dataframe tbody tr th:only-of-type {\n",
              "        vertical-align: middle;\n",
              "    }\n",
              "\n",
              "    .dataframe tbody tr th {\n",
              "        vertical-align: top;\n",
              "    }\n",
              "\n",
              "    .dataframe thead th {\n",
              "        text-align: right;\n",
              "    }\n",
              "</style>\n",
              "<table border=\"1\" class=\"dataframe\">\n",
              "  <thead>\n",
              "    <tr style=\"text-align: right;\">\n",
              "      <th></th>\n",
              "      <th>tweet_id</th>\n",
              "      <th>name</th>\n",
              "      <th>screen_name</th>\n",
              "      <th>retweet_count</th>\n",
              "      <th>text</th>\n",
              "      <th>mined_at</th>\n",
              "      <th>created_at</th>\n",
              "      <th>favourite_count</th>\n",
              "      <th>hashtags</th>\n",
              "      <th>status_count</th>\n",
              "      <th>followers_count</th>\n",
              "      <th>location</th>\n",
              "      <th>source_device</th>\n",
              "      <th>retweet_text</th>\n",
              "    </tr>\n",
              "  </thead>\n",
              "  <tbody>\n",
              "    <tr>\n",
              "      <th>0</th>\n",
              "      <td>1446836027986006016</td>\n",
              "      <td>savas</td>\n",
              "      <td>savasuctu</td>\n",
              "      <td>218.0</td>\n",
              "      <td>RT @RealFlokiInu: Please verify our account @v...</td>\n",
              "      <td>2021-10-09 13:52:46.043200</td>\n",
              "      <td>2021-10-09 13:52:44.000000</td>\n",
              "      <td>0.0</td>\n",
              "      <td>[{'text': 'FLOKI', 'indices': [78, 84]}, {'tex...</td>\n",
              "      <td>2722</td>\n",
              "      <td>93.0</td>\n",
              "      <td>NaN</td>\n",
              "      <td>Twitter Web App</td>\n",
              "      <td>Please verify our account @verified &amp;amp; @Twi...</td>\n",
              "    </tr>\n",
              "    <tr>\n",
              "      <th>1</th>\n",
              "      <td>1446836023615365133</td>\n",
              "      <td>😇 Adam H0K1 BigWin 😇 aminn</td>\n",
              "      <td>SiChubby_H0k1</td>\n",
              "      <td>5070.0</td>\n",
              "      <td>RT @RockstarDogeBSC: ✅ WE ARE NOW OFFICIALLY L...</td>\n",
              "      <td>2021-10-09 13:52:46.057235</td>\n",
              "      <td>2021-10-09 13:52:43.000000</td>\n",
              "      <td>0.0</td>\n",
              "      <td>[{'text': 'ROCKSTARDOGE', 'indices': [76, 89]}...</td>\n",
              "      <td>274</td>\n",
              "      <td>10.0</td>\n",
              "      <td>NaN</td>\n",
              "      <td>Twitter for Android</td>\n",
              "      <td>✅ WE ARE NOW OFFICIALLY LISTED ON COINMARKETCA...</td>\n",
              "    </tr>\n",
              "    <tr>\n",
              "      <th>2</th>\n",
              "      <td>1446836020645933063</td>\n",
              "      <td>Bogdan V</td>\n",
              "      <td>bogdan_vatavu</td>\n",
              "      <td>218.0</td>\n",
              "      <td>RT @RealFlokiInu: Please verify our account @v...</td>\n",
              "      <td>2021-10-09 13:52:46.068569</td>\n",
              "      <td>2021-10-09 13:52:42.000000</td>\n",
              "      <td>0.0</td>\n",
              "      <td>[{'text': 'FLOKI', 'indices': [78, 84]}, {'tex...</td>\n",
              "      <td>1897</td>\n",
              "      <td>30.0</td>\n",
              "      <td>NaN</td>\n",
              "      <td>Twitter for iPhone</td>\n",
              "      <td>Please verify our account @verified &amp;amp; @Twi...</td>\n",
              "    </tr>\n",
              "    <tr>\n",
              "      <th>3</th>\n",
              "      <td>1446836009585373197</td>\n",
              "      <td>CHARLIΞ👺</td>\n",
              "      <td>CryptoCharlieva</td>\n",
              "      <td>196.0</td>\n",
              "      <td>RT @Dra_Claudiaa: I’m #doge hodler! #hodl #dog...</td>\n",
              "      <td>2021-10-09 13:52:46.077750</td>\n",
              "      <td>2021-10-09 13:52:40.000000</td>\n",
              "      <td>0.0</td>\n",
              "      <td>[{'text': 'doge', 'indices': [22, 27]}, {'text...</td>\n",
              "      <td>570</td>\n",
              "      <td>193.0</td>\n",
              "      <td>NaN</td>\n",
              "      <td>Twitter for iPhone</td>\n",
              "      <td>I’m #doge hodler! #hodl #dogecoin #shibainu 💙💙...</td>\n",
              "    </tr>\n",
              "    <tr>\n",
              "      <th>4</th>\n",
              "      <td>1446836008738168832</td>\n",
              "      <td>MONEY-BOY X</td>\n",
              "      <td>MB_3213</td>\n",
              "      <td>0.0</td>\n",
              "      <td>Same thing to #dogefather #dogearmy #DogecoinT...</td>\n",
              "      <td>2021-10-09 13:52:46.086650</td>\n",
              "      <td>2021-10-09 13:52:40.000000</td>\n",
              "      <td>0.0</td>\n",
              "      <td>[{'text': 'dogefather', 'indices': [14, 25]}, ...</td>\n",
              "      <td>17090</td>\n",
              "      <td>569.0</td>\n",
              "      <td>NaN</td>\n",
              "      <td>Twitter for iPhone</td>\n",
              "      <td>None</td>\n",
              "    </tr>\n",
              "  </tbody>\n",
              "</table>\n",
              "</div>"
            ],
            "text/plain": [
              "              tweet_id  ...                                       retweet_text\n",
              "0  1446836027986006016  ...  Please verify our account @verified &amp; @Twi...\n",
              "1  1446836023615365133  ...  ✅ WE ARE NOW OFFICIALLY LISTED ON COINMARKETCA...\n",
              "2  1446836020645933063  ...  Please verify our account @verified &amp; @Twi...\n",
              "3  1446836009585373197  ...  I’m #doge hodler! #hodl #dogecoin #shibainu 💙💙...\n",
              "4  1446836008738168832  ...                                               None\n",
              "\n",
              "[5 rows x 14 columns]"
            ]
          },
          "metadata": {},
          "execution_count": 220
        }
      ]
    },
    {
      "cell_type": "code",
      "metadata": {
        "id": "xGT7rwKUmT7G"
      },
      "source": [
        "#combined_df.sort_values(by=[\"tweet_id\"], inplace=True)"
      ],
      "execution_count": null,
      "outputs": []
    },
    {
      "cell_type": "code",
      "metadata": {
        "colab": {
          "base_uri": "https://localhost:8080/"
        },
        "id": "So7syw3EmUai",
        "outputId": "a731b1e8-62f2-4406-ebb5-0524c93626de"
      },
      "source": [
        "len(combined_df)"
      ],
      "execution_count": null,
      "outputs": [
        {
          "output_type": "execute_result",
          "data": {
            "text/plain": [
              "17042"
            ]
          },
          "metadata": {},
          "execution_count": 222
        }
      ]
    },
    {
      "cell_type": "code",
      "metadata": {
        "id": "-aORRhVSmZHt"
      },
      "source": [
        "stop_words = stopwords.words(\"english\")\n",
        "stemmer = SnowballStemmer(\"english\")\n",
        "lemmatizer = WordNetLemmatizer()\n",
        "\n",
        "tokenizer = RegexpTokenizer(r\"\\w+\")"
      ],
      "execution_count": null,
      "outputs": []
    },
    {
      "cell_type": "code",
      "metadata": {
        "id": "jRr0Ea1dmaDR"
      },
      "source": [
        "def preprocess(text):\n",
        "    words = [lemmatizer.lemmatize(w) for w in text if w not in stop_words]\n",
        "    stem_text = \" \".join([stemmer.stem(i) for i in words])\n",
        "    return stem_text"
      ],
      "execution_count": null,
      "outputs": []
    },
    {
      "cell_type": "code",
      "metadata": {
        "id": "HKqdFFrLmc4P"
      },
      "source": [
        "combined_df = combined_df.astype({\"text\": 'str'})\n",
        "combined_df[\"processed text\"] = combined_df[\"text\"].apply(\n",
        "    lambda x: preprocess(tokenizer.tokenize(x.lower()))\n",
        ")"
      ],
      "execution_count": null,
      "outputs": []
    },
    {
      "cell_type": "code",
      "metadata": {
        "id": "PlSR-CEAmdWW"
      },
      "source": [
        "def getSentiment(tweet):\n",
        "    analysis = TextBlob(tweet)\n",
        "    return analysis.sentiment.polarity"
      ],
      "execution_count": null,
      "outputs": []
    },
    {
      "cell_type": "code",
      "metadata": {
        "id": "NRbnWw1gmgfw"
      },
      "source": [
        "combined_df[\"polarity\"] = combined_df[\"processed text\"].apply(lambda x: getSentiment(x))"
      ],
      "execution_count": null,
      "outputs": []
    },
    {
      "cell_type": "code",
      "metadata": {
        "colab": {
          "base_uri": "https://localhost:8080/",
          "height": 445
        },
        "id": "dzv6lhVzmiT-",
        "outputId": "7bde0159-5adb-4d16-878d-1aea4edd2be4"
      },
      "source": [
        "combined_df.head(5)"
      ],
      "execution_count": null,
      "outputs": [
        {
          "output_type": "execute_result",
          "data": {
            "text/html": [
              "<div>\n",
              "<style scoped>\n",
              "    .dataframe tbody tr th:only-of-type {\n",
              "        vertical-align: middle;\n",
              "    }\n",
              "\n",
              "    .dataframe tbody tr th {\n",
              "        vertical-align: top;\n",
              "    }\n",
              "\n",
              "    .dataframe thead th {\n",
              "        text-align: right;\n",
              "    }\n",
              "</style>\n",
              "<table border=\"1\" class=\"dataframe\">\n",
              "  <thead>\n",
              "    <tr style=\"text-align: right;\">\n",
              "      <th></th>\n",
              "      <th>tweet_id</th>\n",
              "      <th>name</th>\n",
              "      <th>screen_name</th>\n",
              "      <th>retweet_count</th>\n",
              "      <th>text</th>\n",
              "      <th>mined_at</th>\n",
              "      <th>created_at</th>\n",
              "      <th>favourite_count</th>\n",
              "      <th>hashtags</th>\n",
              "      <th>status_count</th>\n",
              "      <th>followers_count</th>\n",
              "      <th>location</th>\n",
              "      <th>source_device</th>\n",
              "      <th>retweet_text</th>\n",
              "      <th>processed text</th>\n",
              "      <th>polarity</th>\n",
              "    </tr>\n",
              "  </thead>\n",
              "  <tbody>\n",
              "    <tr>\n",
              "      <th>0</th>\n",
              "      <td>1446836027986006016</td>\n",
              "      <td>savas</td>\n",
              "      <td>savasuctu</td>\n",
              "      <td>218.0</td>\n",
              "      <td>RT @RealFlokiInu: Please verify our account @v...</td>\n",
              "      <td>2021-10-09 13:52:46.043200</td>\n",
              "      <td>2021-10-09 13:52:44.000000</td>\n",
              "      <td>0.0</td>\n",
              "      <td>[{'text': 'FLOKI', 'indices': [78, 84]}, {'tex...</td>\n",
              "      <td>2722</td>\n",
              "      <td>93.0</td>\n",
              "      <td>NaN</td>\n",
              "      <td>Twitter Web App</td>\n",
              "      <td>Please verify our account @verified &amp;amp; @Twi...</td>\n",
              "      <td>rt realflokiinu pleas verifi account verifi am...</td>\n",
              "      <td>0.0</td>\n",
              "    </tr>\n",
              "    <tr>\n",
              "      <th>1</th>\n",
              "      <td>1446836023615365133</td>\n",
              "      <td>😇 Adam H0K1 BigWin 😇 aminn</td>\n",
              "      <td>SiChubby_H0k1</td>\n",
              "      <td>5070.0</td>\n",
              "      <td>RT @RockstarDogeBSC: ✅ WE ARE NOW OFFICIALLY L...</td>\n",
              "      <td>2021-10-09 13:52:46.057235</td>\n",
              "      <td>2021-10-09 13:52:43.000000</td>\n",
              "      <td>0.0</td>\n",
              "      <td>[{'text': 'ROCKSTARDOGE', 'indices': [76, 89]}...</td>\n",
              "      <td>274</td>\n",
              "      <td>10.0</td>\n",
              "      <td>NaN</td>\n",
              "      <td>Twitter for Android</td>\n",
              "      <td>✅ WE ARE NOW OFFICIALLY LISTED ON COINMARKETCA...</td>\n",
              "      <td>rt rockstardogebsc offici list coinmarketcap r...</td>\n",
              "      <td>0.0</td>\n",
              "    </tr>\n",
              "    <tr>\n",
              "      <th>2</th>\n",
              "      <td>1446836020645933063</td>\n",
              "      <td>Bogdan V</td>\n",
              "      <td>bogdan_vatavu</td>\n",
              "      <td>218.0</td>\n",
              "      <td>RT @RealFlokiInu: Please verify our account @v...</td>\n",
              "      <td>2021-10-09 13:52:46.068569</td>\n",
              "      <td>2021-10-09 13:52:42.000000</td>\n",
              "      <td>0.0</td>\n",
              "      <td>[{'text': 'FLOKI', 'indices': [78, 84]}, {'tex...</td>\n",
              "      <td>1897</td>\n",
              "      <td>30.0</td>\n",
              "      <td>NaN</td>\n",
              "      <td>Twitter for iPhone</td>\n",
              "      <td>Please verify our account @verified &amp;amp; @Twi...</td>\n",
              "      <td>rt realflokiinu pleas verifi account verifi am...</td>\n",
              "      <td>0.0</td>\n",
              "    </tr>\n",
              "    <tr>\n",
              "      <th>3</th>\n",
              "      <td>1446836009585373197</td>\n",
              "      <td>CHARLIΞ👺</td>\n",
              "      <td>CryptoCharlieva</td>\n",
              "      <td>196.0</td>\n",
              "      <td>RT @Dra_Claudiaa: I’m #doge hodler! #hodl #dog...</td>\n",
              "      <td>2021-10-09 13:52:46.077750</td>\n",
              "      <td>2021-10-09 13:52:40.000000</td>\n",
              "      <td>0.0</td>\n",
              "      <td>[{'text': 'doge', 'indices': [22, 27]}, {'text...</td>\n",
              "      <td>570</td>\n",
              "      <td>193.0</td>\n",
              "      <td>NaN</td>\n",
              "      <td>Twitter for iPhone</td>\n",
              "      <td>I’m #doge hodler! #hodl #dogecoin #shibainu 💙💙...</td>\n",
              "      <td>rt dra_claudiaa doge hodler hodl dogecoin shib...</td>\n",
              "      <td>0.0</td>\n",
              "    </tr>\n",
              "    <tr>\n",
              "      <th>4</th>\n",
              "      <td>1446836008738168832</td>\n",
              "      <td>MONEY-BOY X</td>\n",
              "      <td>MB_3213</td>\n",
              "      <td>0.0</td>\n",
              "      <td>Same thing to #dogefather #dogearmy #DogecoinT...</td>\n",
              "      <td>2021-10-09 13:52:46.086650</td>\n",
              "      <td>2021-10-09 13:52:40.000000</td>\n",
              "      <td>0.0</td>\n",
              "      <td>[{'text': 'dogefather', 'indices': [14, 25]}, ...</td>\n",
              "      <td>17090</td>\n",
              "      <td>569.0</td>\n",
              "      <td>NaN</td>\n",
              "      <td>Twitter for iPhone</td>\n",
              "      <td>None</td>\n",
              "      <td>thing dogefath dogearmi dogecointothemoon doge...</td>\n",
              "      <td>0.0</td>\n",
              "    </tr>\n",
              "  </tbody>\n",
              "</table>\n",
              "</div>"
            ],
            "text/plain": [
              "              tweet_id  ... polarity\n",
              "0  1446836027986006016  ...      0.0\n",
              "1  1446836023615365133  ...      0.0\n",
              "2  1446836020645933063  ...      0.0\n",
              "3  1446836009585373197  ...      0.0\n",
              "4  1446836008738168832  ...      0.0\n",
              "\n",
              "[5 rows x 16 columns]"
            ]
          },
          "metadata": {},
          "execution_count": 228
        }
      ]
    },
    {
      "cell_type": "code",
      "metadata": {
        "id": "W3jrfpNnmk0L"
      },
      "source": [
        "combined_df[\"sentiment\"] = combined_df[\"polarity\"].apply(\n",
        "    lambda s: \"Postive\" if s > 0 else (\"Neutral\" if s == 0 else \"Negative\")\n",
        ")"
      ],
      "execution_count": null,
      "outputs": []
    },
    {
      "cell_type": "code",
      "metadata": {
        "id": "mAy3UKrLmmuT"
      },
      "source": [
        "combined_df.to_csv(\"DOGE_sentiment.csv\", index=False)"
      ],
      "execution_count": null,
      "outputs": []
    },
    {
      "cell_type": "code",
      "metadata": {
        "colab": {
          "base_uri": "https://localhost:8080/"
        },
        "id": "jQhGQeDjE6eE",
        "outputId": "5be61e8c-ee2c-4b61-d521-8fe1f18c7577"
      },
      "source": [
        "combined_df['sentiment'].value_counts()"
      ],
      "execution_count": null,
      "outputs": [
        {
          "output_type": "execute_result",
          "data": {
            "text/plain": [
              "Neutral     9269\n",
              "Postive     6602\n",
              "Negative    1171\n",
              "Name: sentiment, dtype: int64"
            ]
          },
          "metadata": {},
          "execution_count": 231
        }
      ]
    },
    {
      "cell_type": "code",
      "metadata": {
        "id": "qCyLO_DjFCe6"
      },
      "source": [
        "eth_df = combined_df"
      ],
      "execution_count": null,
      "outputs": []
    }
  ]
}